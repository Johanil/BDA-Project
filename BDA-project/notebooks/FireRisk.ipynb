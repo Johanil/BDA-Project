{
 "cells": [
  {
   "cell_type": "code",
   "execution_count": 1,
   "metadata": {},
   "outputs": [],
   "source": [
    "import pandas as pd\n",
    "import numpy as np\n",
    "from datetime import datetime, date"
   ]
  },
  {
   "cell_type": "code",
   "execution_count": 2,
   "metadata": {},
   "outputs": [],
   "source": [
    "path='../data/raw/Brandriskdata 2000-2020.csv'\n",
    "#'PunktID': str, 'E': str, 'N': str,\n",
    "types={ 'PunktID': str}"
   ]
  },
  {
   "cell_type": "code",
   "execution_count": 3,
   "metadata": {},
   "outputs": [],
   "source": [
    "#Reading csv file from path with dtypes\n",
    "df = pd.read_csv(path, sep=';', dtype=types)\n"
   ]
  },
  {
   "cell_type": "code",
   "execution_count": 11,
   "metadata": {},
   "outputs": [
    {
     "data": {
      "text/html": [
       "<div>\n",
       "<style scoped>\n",
       "    .dataframe tbody tr th:only-of-type {\n",
       "        vertical-align: middle;\n",
       "    }\n",
       "\n",
       "    .dataframe tbody tr th {\n",
       "        vertical-align: top;\n",
       "    }\n",
       "\n",
       "    .dataframe thead th {\n",
       "        text-align: right;\n",
       "    }\n",
       "</style>\n",
       "<table border=\"1\" class=\"dataframe\">\n",
       "  <thead>\n",
       "    <tr style=\"text-align: right;\">\n",
       "      <th></th>\n",
       "      <th>Date</th>\n",
       "      <th>Municipality</th>\n",
       "      <th>FWI</th>\n",
       "      <th>FWI_index</th>\n",
       "    </tr>\n",
       "  </thead>\n",
       "  <tbody>\n",
       "    <tr>\n",
       "      <th>0</th>\n",
       "      <td>2000-04-01</td>\n",
       "      <td>115</td>\n",
       "      <td>5.25</td>\n",
       "      <td>2.0</td>\n",
       "    </tr>\n",
       "  </tbody>\n",
       "</table>\n",
       "</div>"
      ],
      "text/plain": [
       "        Date  Municipality   FWI  FWI_index\n",
       "0 2000-04-01           115  5.25        2.0"
      ]
     },
     "execution_count": 11,
     "metadata": {},
     "output_type": "execute_result"
    }
   ],
   "source": [
    "#Here are our headers!\n",
    "df.head(1)"
   ]
  },
  {
   "cell_type": "code",
   "execution_count": 4,
   "metadata": {},
   "outputs": [
    {
     "data": {
      "text/plain": [
       "19188859"
      ]
     },
     "execution_count": 4,
     "metadata": {},
     "output_type": "execute_result"
    }
   ],
   "source": [
    "#Number of rows in fire riskdataset\n",
    "df.shape[0]"
   ]
  },
  {
   "cell_type": "code",
   "execution_count": 6,
   "metadata": {},
   "outputs": [
    {
     "name": "stdout",
     "output_type": "stream",
     "text": [
      "Gras has total of 6855866 null values\n",
      "Vindriktning has total of 12310774 null values\n"
     ]
    },
    {
     "data": {
      "text/plain": [
       "PunktID                 0\n",
       "E                       2\n",
       "N                       2\n",
       "Kommun                  2\n",
       "Datum                   2\n",
       "Temp                14617\n",
       "Tmedel              38049\n",
       "Nederbord           23520\n",
       "RH                  33459\n",
       "Vindhastighet        3991\n",
       "Vindriktning     12310774\n",
       "FFMC              1701172\n",
       "DMC               1701172\n",
       "DC                1701172\n",
       "ISI               1701172\n",
       "BUI               1701172\n",
       "FWI               1701172\n",
       "FWI_index         1701172\n",
       "HBV_o             1404342\n",
       "HBV_u             1404342\n",
       "HBV               1404342\n",
       "HBV_index         1404342\n",
       "Gras              6855866\n",
       "dtype: int64"
      ]
     },
     "execution_count": 6,
     "metadata": {},
     "output_type": "execute_result"
    }
   ],
   "source": [
    "df.isnull().sum(axis = 0)"
   ]
  },
  {
   "cell_type": "code",
   "execution_count": 8,
   "metadata": {},
   "outputs": [],
   "source": [
    "df = df.drop(columns=['Nederbord',\n",
    "       'RH', 'Vindhastighet', 'Vindriktning', 'FFMC', 'DMC', 'DC', 'ISI',\n",
    "       'BUI', 'HBV_o', 'HBV_u', 'HBV', 'HBV_index', 'Tmedel','Temp',\n",
    "       'Gras','E','N'])\n"
   ]
  },
  {
   "cell_type": "code",
   "execution_count": 9,
   "metadata": {},
   "outputs": [
    {
     "data": {
      "text/html": [
       "<div>\n",
       "<style scoped>\n",
       "    .dataframe tbody tr th:only-of-type {\n",
       "        vertical-align: middle;\n",
       "    }\n",
       "\n",
       "    .dataframe tbody tr th {\n",
       "        vertical-align: top;\n",
       "    }\n",
       "\n",
       "    .dataframe thead th {\n",
       "        text-align: right;\n",
       "    }\n",
       "</style>\n",
       "<table border=\"1\" class=\"dataframe\">\n",
       "  <thead>\n",
       "    <tr style=\"text-align: right;\">\n",
       "      <th></th>\n",
       "      <th>Date</th>\n",
       "      <th>Municipality</th>\n",
       "      <th>FWI</th>\n",
       "      <th>FWI_index</th>\n",
       "    </tr>\n",
       "  </thead>\n",
       "  <tbody>\n",
       "    <tr>\n",
       "      <th>0</th>\n",
       "      <td>2000-04-01</td>\n",
       "      <td>115</td>\n",
       "      <td>5.25000</td>\n",
       "      <td>2.00</td>\n",
       "    </tr>\n",
       "    <tr>\n",
       "      <th>1</th>\n",
       "      <td>2000-04-01</td>\n",
       "      <td>117</td>\n",
       "      <td>4.44000</td>\n",
       "      <td>2.00</td>\n",
       "    </tr>\n",
       "    <tr>\n",
       "      <th>2</th>\n",
       "      <td>2000-04-01</td>\n",
       "      <td>120</td>\n",
       "      <td>2.32500</td>\n",
       "      <td>1.25</td>\n",
       "    </tr>\n",
       "    <tr>\n",
       "      <th>3</th>\n",
       "      <td>2000-04-01</td>\n",
       "      <td>125</td>\n",
       "      <td>5.32500</td>\n",
       "      <td>2.00</td>\n",
       "    </tr>\n",
       "    <tr>\n",
       "      <th>4</th>\n",
       "      <td>2000-04-01</td>\n",
       "      <td>126</td>\n",
       "      <td>4.70000</td>\n",
       "      <td>2.00</td>\n",
       "    </tr>\n",
       "    <tr>\n",
       "      <th>...</th>\n",
       "      <td>...</td>\n",
       "      <td>...</td>\n",
       "      <td>...</td>\n",
       "      <td>...</td>\n",
       "    </tr>\n",
       "    <tr>\n",
       "      <th>1237765</th>\n",
       "      <td>2020-12-31</td>\n",
       "      <td>2580</td>\n",
       "      <td>0.00000</td>\n",
       "      <td>-1.00</td>\n",
       "    </tr>\n",
       "    <tr>\n",
       "      <th>1237766</th>\n",
       "      <td>2020-12-31</td>\n",
       "      <td>2581</td>\n",
       "      <td>0.00000</td>\n",
       "      <td>-1.00</td>\n",
       "    </tr>\n",
       "    <tr>\n",
       "      <th>1237767</th>\n",
       "      <td>2020-12-31</td>\n",
       "      <td>2582</td>\n",
       "      <td>0.00000</td>\n",
       "      <td>-1.00</td>\n",
       "    </tr>\n",
       "    <tr>\n",
       "      <th>1237768</th>\n",
       "      <td>2020-12-31</td>\n",
       "      <td>2583</td>\n",
       "      <td>0.00000</td>\n",
       "      <td>-1.00</td>\n",
       "    </tr>\n",
       "    <tr>\n",
       "      <th>1237769</th>\n",
       "      <td>2020-12-31</td>\n",
       "      <td>2584</td>\n",
       "      <td>0.00625</td>\n",
       "      <td>-1.00</td>\n",
       "    </tr>\n",
       "  </tbody>\n",
       "</table>\n",
       "<p>1237770 rows × 4 columns</p>\n",
       "</div>"
      ],
      "text/plain": [
       "              Date  Municipality      FWI  FWI_index\n",
       "0       2000-04-01           115  5.25000       2.00\n",
       "1       2000-04-01           117  4.44000       2.00\n",
       "2       2000-04-01           120  2.32500       1.25\n",
       "3       2000-04-01           125  5.32500       2.00\n",
       "4       2000-04-01           126  4.70000       2.00\n",
       "...            ...           ...      ...        ...\n",
       "1237765 2020-12-31          2580  0.00000      -1.00\n",
       "1237766 2020-12-31          2581  0.00000      -1.00\n",
       "1237767 2020-12-31          2582  0.00000      -1.00\n",
       "1237768 2020-12-31          2583  0.00000      -1.00\n",
       "1237769 2020-12-31          2584  0.00625      -1.00\n",
       "\n",
       "[1237770 rows x 4 columns]"
      ]
     },
     "execution_count": 9,
     "metadata": {},
     "output_type": "execute_result"
    }
   ],
   "source": [
    "df.dropna(subset=['FWI'], how='all', inplace=True)\n",
    "df['FWI'] = df['FWI'].str.replace(',','.')\n",
    "df['FWI'] = df['FWI'].astype(float)\n",
    "df['Kommun'] = df['Kommun'].astype(int)\n",
    "df['Datum'] = pd.to_datetime(df['Datum'], format='%Y-%m-%d')\n",
    "df = df.groupby(['Datum','Kommun']).mean()\n",
    "df = df.reset_index()\n",
    "df = df.rename(columns={\"Datum\": \"Date\", \"Kommun\":\"Municipality\"})\n",
    "df"
   ]
  },
  {
   "cell_type": "code",
   "execution_count": 10,
   "metadata": {},
   "outputs": [
    {
     "data": {
      "text/plain": [
       "Date            0\n",
       "Municipality    0\n",
       "FWI             0\n",
       "FWI_index       0\n",
       "dtype: int64"
      ]
     },
     "execution_count": 10,
     "metadata": {},
     "output_type": "execute_result"
    }
   ],
   "source": [
    "df.isnull().sum(axis = 0)"
   ]
  },
  {
   "cell_type": "code",
   "execution_count": 12,
   "metadata": {},
   "outputs": [
    {
     "data": {
      "text/html": [
       "<div>\n",
       "<style scoped>\n",
       "    .dataframe tbody tr th:only-of-type {\n",
       "        vertical-align: middle;\n",
       "    }\n",
       "\n",
       "    .dataframe tbody tr th {\n",
       "        vertical-align: top;\n",
       "    }\n",
       "\n",
       "    .dataframe thead th {\n",
       "        text-align: right;\n",
       "    }\n",
       "</style>\n",
       "<table border=\"1\" class=\"dataframe\">\n",
       "  <thead>\n",
       "    <tr style=\"text-align: right;\">\n",
       "      <th></th>\n",
       "      <th>Date</th>\n",
       "      <th>Municipality</th>\n",
       "      <th>FWI</th>\n",
       "      <th>FWI_index</th>\n",
       "    </tr>\n",
       "  </thead>\n",
       "  <tbody>\n",
       "    <tr>\n",
       "      <th>0</th>\n",
       "      <td>2000-04-01</td>\n",
       "      <td>115</td>\n",
       "      <td>5.25000</td>\n",
       "      <td>2.00</td>\n",
       "    </tr>\n",
       "    <tr>\n",
       "      <th>1</th>\n",
       "      <td>2000-04-01</td>\n",
       "      <td>117</td>\n",
       "      <td>4.44000</td>\n",
       "      <td>2.00</td>\n",
       "    </tr>\n",
       "    <tr>\n",
       "      <th>2</th>\n",
       "      <td>2000-04-01</td>\n",
       "      <td>120</td>\n",
       "      <td>2.32500</td>\n",
       "      <td>1.25</td>\n",
       "    </tr>\n",
       "    <tr>\n",
       "      <th>3</th>\n",
       "      <td>2000-04-01</td>\n",
       "      <td>125</td>\n",
       "      <td>5.32500</td>\n",
       "      <td>2.00</td>\n",
       "    </tr>\n",
       "    <tr>\n",
       "      <th>4</th>\n",
       "      <td>2000-04-01</td>\n",
       "      <td>126</td>\n",
       "      <td>4.70000</td>\n",
       "      <td>2.00</td>\n",
       "    </tr>\n",
       "    <tr>\n",
       "      <th>...</th>\n",
       "      <td>...</td>\n",
       "      <td>...</td>\n",
       "      <td>...</td>\n",
       "      <td>...</td>\n",
       "    </tr>\n",
       "    <tr>\n",
       "      <th>1237765</th>\n",
       "      <td>2020-12-31</td>\n",
       "      <td>2580</td>\n",
       "      <td>0.00000</td>\n",
       "      <td>-1.00</td>\n",
       "    </tr>\n",
       "    <tr>\n",
       "      <th>1237766</th>\n",
       "      <td>2020-12-31</td>\n",
       "      <td>2581</td>\n",
       "      <td>0.00000</td>\n",
       "      <td>-1.00</td>\n",
       "    </tr>\n",
       "    <tr>\n",
       "      <th>1237767</th>\n",
       "      <td>2020-12-31</td>\n",
       "      <td>2582</td>\n",
       "      <td>0.00000</td>\n",
       "      <td>-1.00</td>\n",
       "    </tr>\n",
       "    <tr>\n",
       "      <th>1237768</th>\n",
       "      <td>2020-12-31</td>\n",
       "      <td>2583</td>\n",
       "      <td>0.00000</td>\n",
       "      <td>-1.00</td>\n",
       "    </tr>\n",
       "    <tr>\n",
       "      <th>1237769</th>\n",
       "      <td>2020-12-31</td>\n",
       "      <td>2584</td>\n",
       "      <td>0.00625</td>\n",
       "      <td>-1.00</td>\n",
       "    </tr>\n",
       "  </tbody>\n",
       "</table>\n",
       "<p>1237770 rows × 4 columns</p>\n",
       "</div>"
      ],
      "text/plain": [
       "              Date  Municipality      FWI  FWI_index\n",
       "0       2000-04-01           115  5.25000       2.00\n",
       "1       2000-04-01           117  4.44000       2.00\n",
       "2       2000-04-01           120  2.32500       1.25\n",
       "3       2000-04-01           125  5.32500       2.00\n",
       "4       2000-04-01           126  4.70000       2.00\n",
       "...            ...           ...      ...        ...\n",
       "1237765 2020-12-31          2580  0.00000      -1.00\n",
       "1237766 2020-12-31          2581  0.00000      -1.00\n",
       "1237767 2020-12-31          2582  0.00000      -1.00\n",
       "1237768 2020-12-31          2583  0.00000      -1.00\n",
       "1237769 2020-12-31          2584  0.00625      -1.00\n",
       "\n",
       "[1237770 rows x 4 columns]"
      ]
     },
     "execution_count": 12,
     "metadata": {},
     "output_type": "execute_result"
    }
   ],
   "source": [
    "df"
   ]
  },
  {
   "cell_type": "code",
   "execution_count": null,
   "metadata": {},
   "outputs": [],
   "source": []
  }
 ],
 "metadata": {
  "interpreter": {
   "hash": "63fd5069d213b44bf678585dea6b12cceca9941eaf7f819626cde1f2670de90d"
  },
  "kernelspec": {
   "display_name": "Python 3.9.4 64-bit",
   "language": "python",
   "name": "python3"
  },
  "language_info": {
   "codemirror_mode": {
    "name": "ipython",
    "version": 3
   },
   "file_extension": ".py",
   "mimetype": "text/x-python",
   "name": "python",
   "nbconvert_exporter": "python",
   "pygments_lexer": "ipython3",
   "version": "3.9.4"
  },
  "orig_nbformat": 4
 },
 "nbformat": 4,
 "nbformat_minor": 2
}
