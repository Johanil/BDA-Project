{
 "cells": [
  {
   "cell_type": "code",
   "execution_count": 45,
   "metadata": {},
   "outputs": [],
   "source": [
    "import sqlite3\n",
    "import math\n",
    "import os\n",
    "import time\n",
    "import pandas as pd\n",
    "import numpy as np\n",
    "import ipywidgets as widgets\n",
    "import seaborn as sns\n",
    "import folium\n",
    "from folium import plugins\n",
    "from selenium import webdriver\n",
    "import matplotlib.pyplot as plt\n",
    "from sklearn import linear_model, datasets\n",
    "from sklearn.model_selection import train_test_split\n",
    "from sklearn import preprocessing\n",
    "from ipywidgets import interact, interactive, fixed, interact_manual\n",
    "from IPython.display import display, clear_output"
   ]
  },
  {
   "cell_type": "code",
   "execution_count": 44,
   "metadata": {},
   "outputs": [],
   "source": [
    "# Read sqlite query results into a pandas DataFrame\n",
    "con = sqlite3.connect(\"data/FPA_FOD_20170508.sqlite\")\n",
    "df = pd.read_sql_query(\"SELECT * from Fires\", con)"
   ]
  },
  {
   "cell_type": "code",
   "execution_count": 3,
   "metadata": {},
   "outputs": [],
   "source": [
    "#Adding values to a map https://livecodestream.dev/post/how-to-plot-your-data-on-maps-using-python-and-folium/\n",
    "#Interactive wildfire map https://towardsdatascience.com/creating-an-interactive-map-of-wildfire-data-using-folium-in-python-7d6373b6334a"
   ]
  },
  {
   "cell_type": "code",
   "execution_count": 46,
   "metadata": {},
   "outputs": [],
   "source": [
    "#Not used currently, but could be used to create a map of the US with state boarders.\n",
    "data_url = (\n",
    "    \"https://raw.githubusercontent.com/python-visualization/folium/master/examples/data\"\n",
    ")\n",
    "us_states_url = f\"{data_url}/us-states.json\"\n",
    "\n",
    "\"https://github.com/deldersveld/topojson/blob/master/countries/sweden/\"\n",
    "\n",
    "sweden-municipalities.json\n"
   ]
  },
  {
   "cell_type": "code",
   "execution_count": null,
   "metadata": {},
   "outputs": [],
   "source": [
    "\n",
    "data_url = (\n",
    "    \"https://github.com/deldersveld/topojson/blob/master/countries/sweden/\"\n",
    ")\n",
    "swedish_municipalities = f\"{data_url}/sweden-municipalities.json\""
   ]
  },
  {
   "cell_type": "code",
   "execution_count": null,
   "metadata": {},
   "outputs": [],
   "source": [
    "#map2 = folium.Map(location=[43, -100], tiles='Stamen Terrain', zoom_start=4)\n",
    "\n",
    "#marker_cluster = folium.MarkerCluster().add_to(map2)\n",
    "\n",
    "#for point in range(0, len(firesArr)):\n",
    "   #folium.Marker(firesArr[point], popup=df['Name'][point], icon=folium.Icon(color='darkblue', icon_color='white', icon='male', angle=0, prefix='fa')).add_to(marker_cluster)\n",
    "#map2"
   ]
  },
  {
   "cell_type": "code",
   "execution_count": 48,
   "metadata": {},
   "outputs": [],
   "source": [
    "#A copy of the dataframe that only includes 8 of the columns\n",
    "df_copy = df[['FIRE_NAME', 'FIRE_YEAR', \n",
    "         'SOURCE_REPORTING_UNIT_NAME', 'STAT_CAUSE_DESCR',\n",
    "         'FIRE_SIZE', 'LATITUDE',\n",
    "         'LONGITUDE', 'STATE']]"
   ]
  },
  {
   "cell_type": "code",
   "execution_count": 49,
   "metadata": {},
   "outputs": [
    {
     "name": "stdout",
     "output_type": "stream",
     "text": [
      "(10350, 8)\n",
      "The new dataframe is 0.55 % of the original dataset\n"
     ]
    }
   ],
   "source": [
    "#drop all fires smaller than 1000 acres and show how many fires are left\n",
    "df_copy = df_copy.where(df['FIRE_SIZE'] > 1000).dropna()\n",
    "x = len(df)\n",
    "print(df_copy.shape)\n",
    "\n",
    "print ('The new dataframe is',\n",
    "       round(len(df_copy)/x * 100, 3), \n",
    "       '% of the original dataset')"
   ]
  },
  {
   "cell_type": "code",
   "execution_count": 50,
   "metadata": {},
   "outputs": [],
   "source": [
    "#Group fires by size\n",
    "small_wildfires = folium.FeatureGroup(name = '< 10000 Acres')\n",
    "medium_wildfires = folium.FeatureGroup(name = '10,000 - 50,000 Acres')\n",
    "large_wildfires = folium.FeatureGroup(name = '50,000 - 100,000 Acres')\n",
    "xl_wildfires = folium.FeatureGroup(name = '> 100,000 Acres')"
   ]
  },
  {
   "cell_type": "code",
   "execution_count": null,
   "metadata": {},
   "outputs": [],
   "source": []
  },
  {
   "cell_type": "code",
   "execution_count": 51,
   "metadata": {},
   "outputs": [],
   "source": [
    "#Function that takes the dataframe and returns a map. Circles on the map are colored based on the size of the fire.\n",
    "def add_FireCircle(df, m):\n",
    "    for i, v in df.iterrows():\n",
    "        \n",
    "        fire_size = float(v['FIRE_SIZE'])\n",
    "        \n",
    "        #When hoovering over the circle, the popup will show the fire name, year, cause, state and size.\n",
    "        #More values can be added.\n",
    "        popup = \"\"\"\n",
    "        Fire Name : <b>%s</b><br>\n",
    "        Size (Acres) : <b>%s</b><br>\n",
    "        State : <b>%s</b><br>\n",
    "        Cause : <b>%s</b><br>\n",
    "        Year: <b>%s</b><br>\n",
    "        \"\"\" % (v['FIRE_NAME'], v['FIRE_SIZE'], \n",
    "            v['STATE'], v['STAT_CAUSE_DESCR'], \n",
    "            v['FIRE_YEAR'])\n",
    "        \n",
    "        \n",
    "        if fire_size < 10000:\n",
    "            folium.CircleMarker(location = [v['LATITUDE'], \n",
    "                                            v['LONGITUDE']],\n",
    "                            radius = np.log(fire_size) * 0.8,\n",
    "                            weight = 0,\n",
    "                            tooltip = popup,\n",
    "                            color = '#ffeda0',\n",
    "                            fill_color = '#ffeda0',\n",
    "                            fill_opacity = 0.7,\n",
    "                            fill = True).add_to(small_wildfires)\n",
    "            \n",
    "        if fire_size in range(10000, 50000):\n",
    "            folium.CircleMarker(location = [v['LATITUDE'], \n",
    "                                            v['LONGITUDE']],\n",
    "                            radius = np.log(fire_size),\n",
    "                            weight = 0,\n",
    "                            tooltip = popup,\n",
    "                            color = '#feb24c',\n",
    "                            fill_color = '#feb24c',\n",
    "                            fill_opacity = 0.7,\n",
    "                            fill = True).add_to(medium_wildfires)\n",
    "        \n",
    "        if fire_size in range(50000, 100000):\n",
    "            folium.CircleMarker(location = [v['LATITUDE'], \n",
    "                                            v['LONGITUDE']],\n",
    "                            radius = np.log(fire_size) * 1.5,\n",
    "                            weight = 0,\n",
    "                            tooltip = popup,\n",
    "                            color = '#fc4e2a',\n",
    "                            fill_color = '#fc4e2a',\n",
    "                            fill_opacity = 0.7,\n",
    "                            fill = True).add_to(large_wildfires)\n",
    "\n",
    "        if fire_size > 100000:\n",
    "            folium.CircleMarker(location = [v['LATITUDE'], \n",
    "                                            v['LONGITUDE']],\n",
    "                            radius = np.log(fire_size) * 2,\n",
    "                            weight = 0,\n",
    "                            tooltip = popup,\n",
    "                            color = '##b10026',\n",
    "                            fill_color = '#b10026',\n",
    "                            fill_opacity = 0.7,\n",
    "                            fill = True).add_to(xl_wildfires)\n",
    "\n",
    "    small_wildfires.add_to(m)\n",
    "    medium_wildfires.add_to(m)\n",
    "    large_wildfires.add_to(m)\n",
    "    xl_wildfires.add_to(m)\n",
    "    folium.LayerControl(collapsed = False).add_to(m)\n",
    "\n",
    "    return m\n"
   ]
  },
  {
   "cell_type": "code",
   "execution_count": 52,
   "metadata": {},
   "outputs": [],
   "source": [
    "#Map instanciation, with start point at the center of the US. Type of map is set to Stamen Terrain.\n",
    "map = folium.Map(location = [40.44, -104.81],\n",
    "               tiles = 'Stamen Terrain',\n",
    "               zoom_start = 6)"
   ]
  },
  {
   "cell_type": "code",
   "execution_count": 53,
   "metadata": {},
   "outputs": [],
   "source": [
    "#Creating a dataframe with fires in Alaska.\n",
    "alaska = df_copy.where(df_copy['STATE'] == 'AK').dropna()"
   ]
  },
  {
   "cell_type": "code",
   "execution_count": 54,
   "metadata": {},
   "outputs": [],
   "source": [
    "#Creation of map for fires in Alaska and exporting it to a html file.\n",
    "m_alaska = add_FireCircle(alaska, map)\n",
    "m_alaska.save('alaska.html')"
   ]
  },
  {
   "cell_type": "code",
   "execution_count": null,
   "metadata": {},
   "outputs": [],
   "source": []
  }
 ],
 "metadata": {
  "interpreter": {
   "hash": "63fd5069d213b44bf678585dea6b12cceca9941eaf7f819626cde1f2670de90d"
  },
  "kernelspec": {
   "display_name": "Python 3.9.4 64-bit",
   "language": "python",
   "name": "python3"
  },
  "language_info": {
   "codemirror_mode": {
    "name": "ipython",
    "version": 3
   },
   "file_extension": ".py",
   "mimetype": "text/x-python",
   "name": "python",
   "nbconvert_exporter": "python",
   "pygments_lexer": "ipython3",
   "version": "3.9.4"
  },
  "orig_nbformat": 4
 },
 "nbformat": 4,
 "nbformat_minor": 2
}
